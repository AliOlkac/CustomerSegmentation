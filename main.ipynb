{
 "cells": [
  {
   "cell_type": "code",
   "execution_count": 2,
   "id": "ef463966",
   "metadata": {},
   "outputs": [],
   "source": [
    "# Gerekli kütüphaneleri içe aktarıyoruz\n",
    "import pandas as pd      # Veri analizi için\n",
    "import numpy as np       # Sayısal işlemler için\n",
    "import matplotlib.pyplot as plt  # Grafik çizimi için\n",
    "import seaborn as sns    # İstatistiksel görselleştirme için\n",
    "\n",
    "# Grafiklerin notebook içinde görünmesi için\n",
    "%matplotlib inline\n",
    "\n",
    "# Uyarıları kapatmak için (isteğe bağlı)\n",
    "import warnings\n",
    "warnings.filterwarnings('ignore')"
   ]
  },
  {
   "cell_type": "code",
   "execution_count": null,
   "id": "5855b120",
   "metadata": {},
   "outputs": [],
   "source": [
    "# Pandas ile veri setini yüklüyoruz\n",
    "df = pd.read_csv('marketing_campaign.csv', sep='\\t')  # Eğer dosya virgül ile ayrılmışsa sep=',' yap\n",
    "\n",
    "# İlk 5 satırı görüntüleyerek kontrol ediyoruz\n",
    "df.head()"
   ]
  },
  {
   "cell_type": "code",
   "execution_count": null,
   "id": "50a22944",
   "metadata": {},
   "outputs": [],
   "source": [
    "# Sütun isimleri ve veri tiplerini listeliyoruz\n",
    "print(\"Sütun isimleri ve veri tipleri:\")\n",
    "print(df.dtypes)"
   ]
  },
  {
   "cell_type": "code",
   "execution_count": null,
   "id": "795532e2",
   "metadata": {},
   "outputs": [],
   "source": [
    "# Her sütunda kaç adet eksik değer olduğunu kontrol ediyoruz\n",
    "print(\"Eksik değer sayısı:\")\n",
    "print(df.isnull().sum())"
   ]
  },
  {
   "cell_type": "code",
   "execution_count": null,
   "id": "644059c5",
   "metadata": {},
   "outputs": [],
   "source": [
    "# Sayısal sütunlar için temel istatistikleri görüntülüyoruz\n",
    "df.describe().T"
   ]
  },
  {
   "cell_type": "code",
   "execution_count": null,
   "id": "03d412d8",
   "metadata": {},
   "outputs": [],
   "source": [
    "# Kategorik sütunların benzersiz değerlerini ve dağılımlarını inceliyoruz\n",
    "kategorik_sutunlar = ['Education', 'Marital_Status']\n",
    "for sutun in kategorik_sutunlar:\n",
    "    print(f\"{sutun} sütununda bulunan değerler ve adetleri:\")\n",
    "    print(df[sutun].value_counts())\n",
    "    print(\"-\" * 30)"
   ]
  },
  {
   "cell_type": "code",
   "execution_count": null,
   "id": "e23a73a1",
   "metadata": {},
   "outputs": [],
   "source": [
    "# Yaş dağılımı için histogram çiziyoruz\n",
    "plt.figure(figsize=(8,4))\n",
    "sns.histplot(2024 - df['Year_Birth'], bins=30, kde=True)\n",
    "plt.title('Müşteri Yaş Dağılımı')\n",
    "plt.xlabel('Yaş')\n",
    "plt.ylabel('Müşteri Sayısı')\n",
    "plt.show()"
   ]
  },
  {
   "cell_type": "code",
   "execution_count": null,
   "id": "024728f9",
   "metadata": {},
   "outputs": [],
   "source": [
    "# Gelir dağılımı için histogram çiziyoruz\n",
    "plt.figure(figsize=(8,4))\n",
    "sns.histplot(df['Income'].dropna(), bins=30, kde=True)\n",
    "plt.title('Gelir Dağılımı')\n",
    "plt.xlabel('Gelir')\n",
    "plt.ylabel('Müşteri Sayısı')\n",
    "plt.show()"
   ]
  },
  {
   "cell_type": "code",
   "execution_count": null,
   "id": "2604ea7e",
   "metadata": {},
   "outputs": [],
   "source": [
    "# 'Income' sütununda eksik değeri olan satırları siliyoruz\n",
    "df = df.dropna(subset=['Income'])\n",
    "\n",
    "# Kalan eksik değerleri tekrar kontrol ediyoruz\n",
    "print(\"Eksik değer sayısı (güncel):\")\n",
    "print(df.isnull().sum())"
   ]
  },
  {
   "cell_type": "code",
   "execution_count": null,
   "id": "15205612",
   "metadata": {},
   "outputs": [],
   "source": [
    "# Yaş sütunu oluşturuyoruz (2024 yılına göre)\n",
    "df['Age'] = 2024 - df['Year_Birth']\n",
    "\n",
    "# Yaş dağılımını tekrar kontrol ediyoruz\n",
    "print(df['Age'].describe())\n",
    "\n",
    "# Yaş için uç değerleri temizliyoruz (18-100 arası)\n",
    "df = df[(df['Age'] >= 18) & (df['Age'] <= 100)]\n",
    "\n",
    "# Temizlenmiş yaş dağılımını tekrar kontrol ediyoruz\n",
    "print(df['Age'].describe())"
   ]
  },
  {
   "cell_type": "code",
   "execution_count": null,
   "id": "a0927789",
   "metadata": {},
   "outputs": [],
   "source": [
    "# Gelir sütununun üst sınırını belirliyoruz (99. persentil)\n",
    "income_upper = df['Income'].quantile(0.99)\n",
    "\n",
    "# 99. persentil üzerindeki gelirleri analiz dışında bırakıyoruz\n",
    "df = df[df['Income'] <= income_upper]\n",
    "\n",
    "# Temizlenmiş gelir dağılımını tekrar kontrol ediyoruz\n",
    "print(df['Income'].describe())"
   ]
  },
  {
   "cell_type": "code",
   "execution_count": null,
   "id": "d36fb7b3",
   "metadata": {},
   "outputs": [],
   "source": [
    "# Marital_Status sütununda nadir ve anlamsız kategorileri 'Other' olarak gruplayalım\n",
    "df['Marital_Status'] = df['Marital_Status'].replace(\n",
    "    ['Alone', 'Absurd', 'YOLO'], 'Other'\n",
    ")\n",
    "\n",
    "# Son dağılımı kontrol edelim\n",
    "print(df['Marital_Status'].value_counts())"
   ]
  },
  {
   "cell_type": "code",
   "execution_count": null,
   "id": "a9be0acf",
   "metadata": {},
   "outputs": [],
   "source": [
    "# Son veri setinin boyutunu ve ilk 5 satırını tekrar kontrol ediyoruz\n",
    "print(\"Veri setinin son hali (satır, sütun):\", df.shape)\n",
    "df.head()\n"
   ]
  },
  {
   "cell_type": "code",
   "execution_count": null,
   "id": "495cb337",
   "metadata": {},
   "outputs": [],
   "source": [
    "# Kategorik değişkenleri one-hot encoding ile sayısallaştırıyoruz\n",
    "df_encoded = pd.get_dummies(df, columns=['Education', 'Marital_Status'], drop_first=True)\n",
    "\n",
    "# Sonuçları kontrol ediyoruz\n",
    "print(\"Yeni sütunlar:\", df_encoded.columns)\n",
    "df_encoded.head()"
   ]
  },
  {
   "cell_type": "code",
   "execution_count": null,
   "id": "edf06818",
   "metadata": {},
   "outputs": [],
   "source": [
    "from sklearn.preprocessing import StandardScaler\n",
    "\n",
    "# Segmentasyon için kullanılacak sütunları seçiyoruz\n",
    "# ID, Dt_Customer, Year_Birth, Z_CostContact, Z_Revenue gibi analizde kullanılmayacak sütunları çıkarıyoruz\n",
    "drop_cols = ['ID', 'Year_Birth', 'Dt_Customer', 'Z_CostContact', 'Z_Revenue']\n",
    "X = df_encoded.drop(columns=drop_cols)\n",
    "\n",
    "# Ölçeklendirme işlemi\n",
    "scaler = StandardScaler()\n",
    "X_scaled = scaler.fit_transform(X)\n",
    "\n",
    "# Ölçeklendirilmiş veriyi DataFrame olarak saklayalım\n",
    "X_scaled_df = pd.DataFrame(X_scaled, columns=X.columns)\n",
    "\n",
    "# İlk 5 satırı kontrol edelim\n",
    "X_scaled_df.head()"
   ]
  },
  {
   "cell_type": "code",
   "execution_count": null,
   "id": "ff4e04b4",
   "metadata": {},
   "outputs": [],
   "source": [
    "from sklearn.cluster import KMeans\n",
    "import matplotlib.pyplot as plt\n",
    "\n",
    "# Farklı küme sayıları için K-Means algoritmasını çalıştırıp, WCSS değerlerini (küme içi toplam kareler) hesaplıyoruz\n",
    "wcss = []\n",
    "K = range(2, 21)  # 2'den 10'a kadar küme sayısını deniyoruz\n",
    "\n",
    "for k in K:\n",
    "    kmeans = KMeans(n_clusters=k, random_state=42)\n",
    "    kmeans.fit(X_scaled_df)\n",
    "    wcss.append(kmeans.inertia_)  # inertia_ = WCSS\n",
    "\n",
    "# Sonuçları çiziyoruz\n",
    "plt.figure(figsize=(8,4))\n",
    "plt.plot(K, wcss, 'bo-')\n",
    "plt.xlabel('Küme Sayısı (k)')\n",
    "plt.ylabel('WCSS (Küme İçi Toplam Kareler)')\n",
    "plt.title('Elbow (Dirsek) Yöntemi ile Optimum Küme Sayısı')\n",
    "plt.show()"
   ]
  },
  {
   "cell_type": "code",
   "execution_count": null,
   "id": "1fdaf67a",
   "metadata": {},
   "outputs": [],
   "source": [
    "from sklearn.metrics import silhouette_score\n",
    "\n",
    "# Farklı küme sayıları için silhouette skorunu hesaplıyoruz\n",
    "silhouette_scores = []\n",
    "for k in K:\n",
    "    kmeans = KMeans(n_clusters=k, random_state=42)\n",
    "    labels = kmeans.fit_predict(X_scaled_df)\n",
    "    score = silhouette_score(X_scaled_df, labels)\n",
    "    silhouette_scores.append(score)\n",
    "\n",
    "# Sonuçları çiziyoruz\n",
    "plt.figure(figsize=(8,4))\n",
    "plt.plot(K, silhouette_scores, 'ro-')\n",
    "plt.xlabel('Küme Sayısı (k)')\n",
    "plt.ylabel('Ortalama Silhouette Skoru')\n",
    "plt.title('Silhouette Yöntemi ile Optimum Küme Sayısı')\n",
    "plt.show()"
   ]
  },
  {
   "cell_type": "code",
   "execution_count": null,
   "id": "5a37013c",
   "metadata": {},
   "outputs": [],
   "source": [
    "# Optimum küme sayısını seçiyoruz (örneğin k=4)\n",
    "k_opt = 4  # Grafiğe göre değiştir\n",
    "\n",
    "# K-Means modelini eğitiyoruz\n",
    "kmeans = KMeans(n_clusters=k_opt, random_state=42)\n",
    "clusters = kmeans.fit_predict(X_scaled_df)\n",
    "\n",
    "# Sonuçları orijinal veri setine ekliyoruz\n",
    "df['Segment'] = clusters\n",
    "\n",
    "# Her segmentte kaç müşteri olduğunu kontrol ediyoruz\n",
    "print(df['Segment'].value_counts())"
   ]
  },
  {
   "cell_type": "code",
   "execution_count": null,
   "id": "08530c9d",
   "metadata": {},
   "outputs": [],
   "source": [
    "# Her segmentin temel istatistiklerini görüntülüyoruz\n",
    "segment_analiz = df.groupby('Segment').mean(numeric_only=True)\n",
    "print(segment_analiz)\n",
    "\n",
    "# Segmentlerin yaş ve gelir dağılımını görselleştiriyoruz\n",
    "plt.figure(figsize=(8,6))\n",
    "sns.boxplot(x='Segment', y='Age', data=df)\n",
    "plt.title('Segmentlere Göre Yaş Dağılımı')\n",
    "plt.show()\n",
    "\n",
    "plt.figure(figsize=(8,6))\n",
    "sns.boxplot(x='Segment', y='Income', data=df)\n",
    "plt.title('Segmentlere Göre Gelir Dağılımı')\n",
    "plt.show()"
   ]
  },
  {
   "cell_type": "code",
   "execution_count": null,
   "id": "5313cc4a",
   "metadata": {},
   "outputs": [],
   "source": [
    "# Segmentlere göre harcama ortalamalarını hesaplıyoruz\n",
    "harcama_kolonlari = [\n",
    "    'MntWines', 'MntFruits', 'MntMeatProducts',\n",
    "    'MntFishProducts', 'MntSweetProducts', 'MntGoldProds'\n",
    "]\n",
    "\n",
    "segment_harcama = df.groupby('Segment')[harcama_kolonlari].mean().T\n",
    "\n",
    "# Sonuçları tablo olarak yazdırıyoruz\n",
    "print(segment_harcama)\n",
    "\n",
    "# Her segmentin harcama profilini görselleştiriyoruz\n",
    "plt.figure(figsize=(12,6))\n",
    "segment_harcama.plot(kind='bar')\n",
    "plt.title('Segmentlere Göre Ortalama Harcamalar')\n",
    "plt.ylabel('Ortalama Harcama (Son 2 Yıl)')\n",
    "plt.xlabel('Ürün Türü')\n",
    "plt.legend(title='Segment')\n",
    "plt.tight_layout()\n",
    "plt.show()"
   ]
  },
  {
   "cell_type": "code",
   "execution_count": null,
   "id": "705b6779",
   "metadata": {},
   "outputs": [],
   "source": [
    "kampanya_kolonlari = [\n",
    "    'AcceptedCmp1', 'AcceptedCmp2', 'AcceptedCmp3', 'AcceptedCmp4', 'AcceptedCmp5', 'Response'\n",
    "]\n",
    "\n",
    "segment_kampanya = df.groupby('Segment')[kampanya_kolonlari].mean().T\n",
    "\n",
    "print(segment_kampanya)\n",
    "\n",
    "# Görselleştirme\n",
    "plt.figure(figsize=(12,6))\n",
    "segment_kampanya.plot(kind='bar')\n",
    "plt.title('Segmentlere Göre Kampanya Yanıt Oranları')\n",
    "plt.ylabel('Ortalama Yanıt Oranı')\n",
    "plt.xlabel('Kampanya')\n",
    "plt.legend(title='Segment')\n",
    "plt.tight_layout()\n",
    "plt.show()"
   ]
  },
  {
   "cell_type": "code",
   "execution_count": null,
   "id": "b1817200",
   "metadata": {},
   "outputs": [],
   "source": [
    "kanal_kolonlari = [\n",
    "    'NumWebPurchases', 'NumCatalogPurchases', 'NumStorePurchases', 'NumWebVisitsMonth'\n",
    "]\n",
    "\n",
    "segment_kanal = df.groupby('Segment')[kanal_kolonlari].mean().T\n",
    "\n",
    "print(segment_kanal)\n",
    "\n",
    "# Görselleştirme\n",
    "plt.figure(figsize=(12,6))\n",
    "segment_kanal.plot(kind='bar')\n",
    "plt.title('Segmentlere Göre Alışveriş Kanalı Tercihleri')\n",
    "plt.ylabel('Ortalama Alışveriş Sayısı')\n",
    "plt.xlabel('Kanal')\n",
    "plt.legend(title='Segment')\n",
    "plt.tight_layout()\n",
    "plt.show()"
   ]
  },
  {
   "cell_type": "code",
   "execution_count": null,
   "id": "e68e7d0b",
   "metadata": {},
   "outputs": [],
   "source": [
    "plt.figure(figsize=(10,6))\n",
    "sns.scatterplot(x='Age', y='Income', hue='Segment', data=df, palette='tab10')\n",
    "plt.title('Segmentlerin Yaş ve Gelir Ekseni Üzerinde Dağılımı')\n",
    "plt.xlabel('Yaş')\n",
    "plt.ylabel('Gelir')\n",
    "plt.legend(title='Segment')\n",
    "plt.show()"
   ]
  },
  {
   "cell_type": "code",
   "execution_count": null,
   "id": "c1d26ba9",
   "metadata": {},
   "outputs": [],
   "source": []
  }
 ],
 "metadata": {
  "kernelspec": {
   "display_name": "Python 3",
   "language": "python",
   "name": "python3"
  },
  "language_info": {
   "codemirror_mode": {
    "name": "ipython",
    "version": 3
   },
   "file_extension": ".py",
   "mimetype": "text/x-python",
   "name": "python",
   "nbconvert_exporter": "python",
   "pygments_lexer": "ipython3",
   "version": "3.12.2"
  }
 },
 "nbformat": 4,
 "nbformat_minor": 5
}
